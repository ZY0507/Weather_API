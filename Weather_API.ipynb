{
 "cells": [
  {
   "cell_type": "code",
   "execution_count": 26,
   "metadata": {},
   "outputs": [
    {
     "name": "stdout",
     "output_type": "stream",
     "text": [
      "489f8ed5010e4d1082a230213230711\n"
     ]
    }
   ],
   "source": [
    "# Import the necessary libraries\n",
    "import pandas as pd\n",
    "import requests\n",
    "from datetime import datetime\n",
    "from decouple import config\n",
    "from dotenv import load_dotenv"
   ]
  },
  {
   "cell_type": "code",
   "execution_count": 9,
   "metadata": {},
   "outputs": [
    {
     "name": "stdout",
     "output_type": "stream",
     "text": [
      "Index(['city_id', 'city_acsii', 'country'], dtype='object')\n",
      "       city_id  city_acsii country\n",
      "490        491        Ahus  Sweden\n",
      "623        624  Akersberga  Sweden\n",
      "1082      1083    Alingsas  Sweden\n",
      "1145      1146     Almhult  Sweden\n",
      "1186      1187        Alta  Sweden\n",
      "...        ...         ...     ...\n",
      "41649    41650       Vaxjo  Sweden\n",
      "41880    41881    Vetlanda  Sweden\n",
      "42219    42220    Vimmerby  Sweden\n",
      "42293    42294       Visby  Sweden\n",
      "44087    44088       Ystad  Sweden\n",
      "\n",
      "[148 rows x 3 columns]\n"
     ]
    }
   ],
   "source": [
    "# Read the CSV file into a DataFrame\n",
    "df = pd.read_csv('city_country.csv', delimiter=';')\n",
    "\n",
    "# Print the columns in the DataFrame\n",
    "print(df.columns)\n",
    "\n",
    "# You can change the country here\n",
    "country_you_want = 'Sweden'\n",
    "\n",
    "# Filter data for cities in Sweden\n",
    "df_country = df[df['country'] == country_you_want]\n",
    "\n",
    "# Print the rows in the DataFrame, after applying the filter\n",
    "\n",
    "print(df_country)"
   ]
  },
  {
   "cell_type": "code",
   "execution_count": 34,
   "metadata": {},
   "outputs": [],
   "source": [
    "# Look for a .env file and find the API Key I stored\n",
    "load_dotenv()\n",
    "\n",
    "# Provide the API Key to call Rest API\n",
    "# You can get your own API Key By signing up on this page: https://www.weatherapi.com/\n",
    "api_key = config('weather_api_key')\n",
    "\n",
    "# Create lists to store data for each column\n",
    "all_data = []\n",
    "\n",
    "# Create lists for error data\n",
    "error_data = []"
   ]
  },
  {
   "cell_type": "code",
   "execution_count": 30,
   "metadata": {},
   "outputs": [],
   "source": [
    "# Iterate through each row in the 'city_acsii' column\n",
    "for city in df_country['city_acsii']:\n",
    "    # Construct the API link for each city\n",
    "    api_link = f\"http://api.weatherapi.com/v1/current.json?key={api_key}&q={city}\"\n",
    "\n",
    "    # Make an API request\n",
    "    response = requests.get(api_link)\n",
    "\n",
    "    # Check if the request was successful (status code 200)\n",
    "    if response.status_code == 200:\n",
    "        # Access and use the response data (json() method returns a dictionary)\n",
    "        data = response.json()\n",
    "\n",
    "        # Extract relevant information from the JSON response\n",
    "        location = data.get('location', {})\n",
    "        current = data.get('current', {})\n",
    "        condition = current.get('condition', {})\n",
    "\n",
    "        # Append the extracted data to the list\n",
    "        all_data.append([\n",
    "            # location\n",
    "            location.get('name'),\n",
    "            location.get('region'),\n",
    "            location.get('country'),\n",
    "            location.get('lat'),\n",
    "            location.get('lon'),\n",
    "            location.get('tz_id'),\n",
    "            location.get('localtime_epoch'),\n",
    "            location.get('localtime'),\n",
    "            # current\n",
    "            current.get('last_updated_epoch'),\n",
    "            current.get('last_updated'),\n",
    "            current.get('temp_c'),\n",
    "            current.get('temp_f'),\n",
    "            current.get('is_day'),\n",
    "            # condition\n",
    "            condition.get('text'),\n",
    "            condition.get('icon'),\n",
    "            # current again\n",
    "            current.get('wind_mph'),\n",
    "            current.get('wind_kph'),\n",
    "            current.get('wind_degree'),\n",
    "            current.get('wind_dir'),\n",
    "            current.get('pressure_mb'),\n",
    "            current.get('pressure_in'),\n",
    "            current.get('precip_mm'),\n",
    "            current.get('precip_in'),\n",
    "            current.get('humidity'),\n",
    "            current.get('cloud'),\n",
    "            current.get('feelslike_c'),\n",
    "            current.get('feelslike_f'),\n",
    "            current.get('vis_km'),\n",
    "            current.get('vis_miles'),\n",
    "            current.get('uv'),\n",
    "            current.get('gust_mph'),\n",
    "            current.get('gust_kph')\n",
    "        ])\n",
    "    else:\n",
    "        # Add error message as dictionary if the request was not successful, for example, if the city does not exist\n",
    "        error_data.append({'City': city, 'StatusCode': response.status_code})\n"
   ]
  },
  {
   "cell_type": "code",
   "execution_count": 5,
   "metadata": {},
   "outputs": [],
   "source": [
    "# Create a DataFrame from the list of lists\n",
    "result_df = pd.DataFrame(\n",
    "    all_data,\n",
    "    columns=[\n",
    "        # location\n",
    "        'City', 'Region', 'Country', 'Latitude', 'Longitude', 'TimeZone', 'LocalTimeEpoch', 'LocalTime',\n",
    "        # current\n",
    "        'LastUpdatedEpoch', 'LastUpdated', 'Temperature_C', 'Temperature_F', 'IsDay',\n",
    "        # condition\n",
    "        'ConditionText', 'ConditionIcon', \n",
    "        # current again\n",
    "        'WindMPH', 'WindKPH', 'WindDegree', 'WindDir',\n",
    "        'PressureMB', 'PressureIn', 'PrecipMM', 'PrecipIn', 'Humidity', 'Cloud', 'FeelsLike_C',\n",
    "        'FeelsLike_F', 'VisibilityKM', 'VisibilityMiles', 'UV', 'GustMPH', 'GustKPH'\n",
    "    ]\n",
    ")\n",
    "\n",
    "# Create a DataFrame from the previous error message dictionary\n",
    "error_result_df = pd.DataFrame(error_data, columns= ['City', 'StatusCode'])"
   ]
  },
  {
   "cell_type": "code",
   "execution_count": 6,
   "metadata": {},
   "outputs": [],
   "source": [
    "# Create a DataFrame from the list of error data\n",
    "error_df = pd.DataFrame(error_data)\n",
    "\n",
    "# Generate a timestamp for the output file names\n",
    "timestamp = datetime.now().strftime(\"%Y%m%d%H%M\")\n",
    "\n",
    "# Save the DataFrame to a CSV file\n",
    "result_df.to_csv(f'{timestamp}_data_{country_you_want}.csv', index=False)\n",
    "error_df.to_csv(f'{timestamp}_error_{country_you_want}.csv', index=False)"
   ]
  }
 ],
 "metadata": {
  "kernelspec": {
   "display_name": "Python 3",
   "language": "python",
   "name": "python3"
  },
  "language_info": {
   "codemirror_mode": {
    "name": "ipython",
    "version": 3
   },
   "file_extension": ".py",
   "mimetype": "text/x-python",
   "name": "python",
   "nbconvert_exporter": "python",
   "pygments_lexer": "ipython3",
   "version": "3.11.3"
  }
 },
 "nbformat": 4,
 "nbformat_minor": 2
}
